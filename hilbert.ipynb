{
 "cells": [
  {
   "cell_type": "markdown",
   "metadata": {},
   "source": [
    "Here, we build Hilbert space-filling curve in order to transform 2D data to 1D signal. A space-filling curve is a line that completely fills up the unit square. It is a way of mapping between 2D and 1D space that preserves locality fairly well. Hilbert curves of orders 1, 2, and 3 are shown in figure below. "
   ]
  },
  {
   "cell_type": "markdown",
   "metadata": {},
   "source": [
    "Hilbert curves of orders 1 (red), 2 (blue), and 3 (black) |  3 Colour channel matrices of the input image of size 4x4x3\n",
    ":-------------------------:|:-------------------------:\n",
    "<img src=\"images/hilbert_curves.png\" style=\"width:300px;height:300px\"/>  |  <img src=\"images/rgb_matrices.png\" style=\"width:400px;height:300px\"/>"
   ]
  },
  {
   "cell_type": "markdown",
   "metadata": {},
   "source": [
    "Here, Hilbert curve passes through every pixel of the image. The curve is constructed as a sequence of short lines. Here is the direction order to build first half of the first order curve: (1,0), (0,-1), (-1,0), (0,-1), (0,-1), (1,0), (0, 1), (1,0). This curve now can read each pixel of the square matrix."
   ]
  },
  {
   "cell_type": "markdown",
   "metadata": {},
   "source": [
    "<img src=\"images/hilbertRGB.png\" style=\"width:500px;height:400px;\">\n",
    "For example, we read the red matrix of the 4x4x3 image in the following order: 35, 19, 22, 13, 4, 0, 8, 3, 7, 1, 3, 10, 53, 16, 25, 6.\n",
    "The following code in Python 3 shows how to build the modified Nth order Hilbert curve."
   ]
  },
  {
   "cell_type": "code",
   "execution_count": 4,
   "metadata": {},
   "outputs": [],
   "source": [
    "import numpy as np\n",
    "import matplotlib.pyplot as plt"
   ]
  },
  {
   "cell_type": "code",
   "execution_count": 5,
   "metadata": {},
   "outputs": [],
   "source": [
    "# N is the order of the curve\n",
    "def rix(cy, N, d):\n",
    "    rx = np.zeros(N, dtype=int)\n",
    "    for i in range(N):\n",
    "        rx[i] = d*cy[N-i-1]\n",
    "        \n",
    "    return rx\n",
    "\n",
    "    \n",
    "\n",
    "def hilbert_curve(N, plot_curve = True):\n",
    "    #initialize arrays\n",
    "    dx = np.zeros(4**(N), dtype=int)\n",
    "    dy = np.zeros(4**(N), dtype=int)\n",
    "    \n",
    "\n",
    "    dxp = np.zeros(4**(N), dtype=int)\n",
    "    dyp = np.zeros(4**(N), dtype=int)\n",
    "\n",
    "    x = np.zeros(4**(N), dtype=int)\n",
    "    y = np.zeros(4**(N), dtype=int)\n",
    "    \n",
    "    # directions of curve \n",
    "    dxp[0:3] = [0, 1, 0] \n",
    "    dyp[0:3] = [1, 0, -1]\n",
    "    \n",
    "\n",
    "    \n",
    "    #building fractal curve\n",
    "    for n in range(1,N):\n",
    "        dx[0:(4**(n+1)-1)] = np.concatenate((rix(dyp[0:(4**n-1)], 4**n-1, -1), [0], dxp[0:(4**n-1)], [1], dxp[0:(4**n-1)], [0], rix(dyp[0:(4**n-1)], 4**n-1, 1)))\n",
    "        dy[0:(4**(n+1)-1)] = np.concatenate((rix(dxp[0:(4**n-1)], 4**n-1, 1), [1], dyp[0:(4**n-1)], [0], dyp[0:(4**n-1)], [-1], rix(dxp[0:(4**n-1)], 4**n-1, -1)))\n",
    "        dxp[0:(4**(n+1)-1)] = dx[0:(4**(n+1)-1)]\n",
    "        dyp[0:(4**(n+1)-1)] = dy[0:(4**(n+1)-1)]\n",
    "        #print(dx)\n",
    "        #print(dy)\n",
    "    for i in range(2**(2*N)-1):\n",
    "        x[i+1] = x[i] + dx[i]\n",
    "        y[i+1] = y[i] + dy[i]\n",
    "    \n",
    "    if plot_curve:\n",
    "        plt.plot(x,y)\n",
    "        plt.show()\n",
    "        \n",
    "    return x, y\n",
    "\n"
   ]
  },
  {
   "cell_type": "code",
   "execution_count": 8,
   "metadata": {},
   "outputs": [
    {
     "data": {
      "image/png": "[encoded data removed]",
      "text/plain": [
       "<Figure size 432x288 with 1 Axes>"
      ]
     },
     "metadata": {
      "needs_background": "light"
     },
     "output_type": "display_data"
    }
   ],
   "source": [
    "#2nd order curve\n",
    "x,y = hilbert_curve(2)"
   ]
  },
  {
   "cell_type": "code",
   "execution_count": 10,
   "metadata": {},
   "outputs": [
    {
     "data": {
      "image/png": "[encoded data removed]",
      "text/plain": [
       "<Figure size 432x288 with 1 Axes>"
      ]
     },
     "metadata": {
      "needs_background": "light"
     },
     "output_type": "display_data"
    }
   ],
   "source": [
    "# 3th order curve\n",
    "x,y = hilbert_curve(3) "
   ]
  },
  {
   "cell_type": "code",
   "execution_count": 11,
   "metadata": {},
   "outputs": [
    {
     "data": {
      "image/png": "[encoded data removed]",
      "text/plain": [
       "<Figure size 432x288 with 1 Axes>"
      ]
     },
     "metadata": {
      "needs_background": "light"
     },
     "output_type": "display_data"
    }
   ],
   "source": [
    "# 5th order curve\n",
    "x,y = hilbert_curve(5)"
   ]
  },
  {
   "cell_type": "code",
   "execution_count": null,
   "metadata": {},
   "outputs": [],
   "source": []
  },
  {
   "cell_type": "code",
   "execution_count": null,
   "metadata": {},
   "outputs": [],
   "source": []
  }
 ],
 "metadata": {
  "kernelspec": {
   "display_name": "Python 3",
   "language": "python",
   "name": "python3"
  },
  "language_info": {
   "codemirror_mode": {
    "name": "ipython",
    "version": 3
   },
   "file_extension": ".py",
   "mimetype": "text/x-python",
   "name": "python",
   "nbconvert_exporter": "python",
   "pygments_lexer": "ipython3",
   "version": "3.7.3"
  }
 },
 "nbformat": 4,
 "nbformat_minor": 2
}
